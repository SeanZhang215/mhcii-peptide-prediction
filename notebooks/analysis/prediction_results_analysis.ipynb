{
 "cells": [
  {
   "cell_type": "markdown",
   "metadata": {},
   "source": [
    "# NetMHCII Prediction Results Analysis"
   ]
  },
  {
   "cell_type": "markdown",
   "metadata": {},
   "source": [
    "This notebook provides comprehensive analysis of NetMHCII prediction results, focusing on binding distributions and peptide characteristics."
   ]
  },
  {
   "cell_type": "markdown",
   "metadata": {},
   "source": [
    "## Setup and Imports"
   ]
  },
  {
   "cell_type": "code",
   "execution_count": null,
   "metadata": {},
   "outputs": [],
   "source": [
    "import pandas as pd\n",
    "import numpy as np\n",
    "from pathlib import Path\n",
    "\n",
    "from src.analysis import BindingDistributionPlotter, PlotConfig\n",
    "from src.predictor.utils import FileManager"
   ]
  },
  {
   "cell_type": "markdown",
   "metadata": {},
   "source": [
    "## Load Results\n"
   ]
  },
  {
   "cell_type": "code",
   "execution_count": null,
   "metadata": {},
   "outputs": [],
   "source": [
    "# Initialize FileManager\n",
    "file_manager = FileManager(\"/path/to/results\")\n",
    "\n",
    "# Load all prediction results\n",
    "def load_all_results(results_dir: str) -> dict:\n",
    "    results = {}\n",
    "    for file in Path(results_dir).glob(\"*_predictions.csv\"):\n",
    "        sample_id = file.stem.replace(\"_predictions\", \"\")\n",
    "        df = pd.read_csv(file)\n",
    "        results[sample_id] = df\n",
    "    return results\n",
    "\n",
    "results_dict = load_all_results(\"/path/to/results\")\n",
    "print(f\"Loaded results for {len(results_dict)} samples\")"
   ]
  },
  {
   "cell_type": "markdown",
   "metadata": {},
   "source": [
    "## No-transformation Analysis"
   ]
  },
  {
   "cell_type": "code",
   "execution_count": null,
   "metadata": {},
   "outputs": [],
   "source": [
    "# Filter for raw peptides without transformations\n",
    "def get_raw_predictions(df: pd.DataFrame) -> pd.DataFrame:\n",
    "    return df[\n",
    "        (df['inverted_manual'] == 0) & \n",
    "        (df['flipped'] == 'raw')\n",
    "    ]\n",
    "\n",
    "raw_results = {\n",
    "    sample_id: get_raw_predictions(df)\n",
    "    for sample_id, df in results_dict.items()\n",
    "}\n",
    "\n",
    "# Initialize plotter\n",
    "plotter = BindingDistributionPlotter(\n",
    "    PlotConfig(figsize=(12, 6))\n",
    ")\n",
    "\n",
    "# Plot overall distribution\n",
    "fig = plotter.plot_rank_distribution(\n",
    "    pd.concat(raw_results.values()),\n",
    "    title=\"Binding Rank Distribution (No Transformations)\"\n",
    ")"
   ]
  },
  {
   "cell_type": "markdown",
   "metadata": {},
   "source": [
    "## Transformation Analysis"
   ]
  },
  {
   "cell_type": "code",
   "execution_count": null,
   "metadata": {},
   "outputs": [],
   "source": [
    "# Analyze different transformation combinations\n",
    "transformations = {\n",
    "    'No Transform': lambda df: df[(df['inverted_manual'] == 0) & (df['flipped'] == 'raw')],\n",
    "    'Inverted': lambda df: df[(df['inverted_manual'] == 1) & (df['flipped'] == 'raw')],\n",
    "    'Flipped': lambda df: df[(df['inverted_manual'] == 0) & (df['flipped'] != 'raw')],\n",
    "    'All Transform': lambda df: df[(df['inverted_manual'] == 1) | (df['flipped'] != 'raw')]\n",
    "}\n",
    "\n",
    "# Create comparison plot\n",
    "transformed_dfs = {\n",
    "    name: pd.concat([transform(df) for df in results_dict.values()])\n",
    "    for name, transform in transformations.items()\n",
    "}\n",
    "\n",
    "fig = plotter.plot_comparison(\n",
    "    transformed_dfs,\n",
    "    title=\"Effect of Sequence Transformations on Binding\"\n",
    ")"
   ]
  },
  {
   "cell_type": "markdown",
   "metadata": {},
   "source": [
    "## Length Analysis"
   ]
  },
  {
   "cell_type": "code",
   "execution_count": null,
   "metadata": {},
   "outputs": [],
   "source": [
    "# Analyze peptide length distribution\n",
    "def analyze_length_distribution(results_dict: dict) -> pd.DataFrame:\n",
    "    all_data = []\n",
    "    for sample_id, df in results_dict.items():\n",
    "        df = df.copy()\n",
    "        df['length'] = df['Peptide'].str.len()\n",
    "        df['sample_id'] = sample_id\n",
    "        all_data.append(df)\n",
    "    \n",
    "    return pd.concat(all_data)\n",
    "\n",
    "length_data = analyze_length_distribution(results_dict)\n",
    "\n",
    "# Plot length vs binding\n",
    "plt.figure(figsize=(12, 6))\n",
    "sns.boxplot(\n",
    "    data=length_data,\n",
    "    x='length',\n",
    "    y='%Rank_EL',\n",
    "    showfliers=False\n",
    ")\n",
    "plt.yscale('log')\n",
    "plt.title('Peptide Length vs Binding Rank')"
   ]
  },
  {
   "cell_type": "markdown",
   "metadata": {},
   "source": [
    "## Sample Comparison"
   ]
  },
  {
   "cell_type": "code",
   "execution_count": null,
   "metadata": {},
   "outputs": [],
   "source": [
    "# Compare binding distributions across samples\n",
    "fig = plotter.plot_comparison(\n",
    "    results_dict,\n",
    "    title=\"Sample-wise Binding Distribution\"\n",
    ")\n",
    "\n",
    "# Calculate and display statistics\n",
    "stats = pd.DataFrame({\n",
    "    sample_id: {\n",
    "        'Total Peptides': len(df),\n",
    "        'Strong Binders (<2%)': (df['%Rank_EL'] < 2).sum(),\n",
    "        'Weak Binders (2-10%)': ((df['%Rank_EL'] >= 2) & (df['%Rank_EL'] < 10)).sum(),\n",
    "        'Non-binders': (df['%Rank_EL'] >= 10).sum(),\n",
    "        'Median Rank': df['%Rank_EL'].median()\n",
    "    }\n",
    "    for sample_id, df in results_dict.items()\n",
    "}).T\n",
    "\n",
    "display(stats)"
   ]
  },
  {
   "cell_type": "markdown",
   "metadata": {},
   "source": [
    "## Binding Motif Analysis"
   ]
  },
  {
   "cell_type": "code",
   "execution_count": null,
   "metadata": {},
   "outputs": [],
   "source": [
    "# Analyze core sequences of strong binders\n",
    "def analyze_binding_motifs(df: pd.DataFrame, rank_threshold: float = 2.0) -> pd.DataFrame:\n",
    "    strong_binders = df[df['%Rank_EL'] <= rank_threshold]\n",
    "    return pd.DataFrame({\n",
    "        'Core': strong_binders['Core'],\n",
    "        'Score_EL': strong_binders['Score_EL'],\n",
    "        'Rank_EL': strong_binders['%Rank_EL']\n",
    "    })\n",
    "\n",
    "# Get motifs for each sample\n",
    "motifs = {\n",
    "    sample_id: analyze_binding_motifs(df)\n",
    "    for sample_id, df in results_dict.items()\n",
    "}\n",
    "\n",
    "# Plot motif characteristics\n",
    "for sample_id, motif_df in list(motifs.items())[:3]:  # Show first 3 samples\n",
    "    print(f\"\\nSample {sample_id} motif characteristics:\")\n",
    "    print(motif_df['Core'].value_counts().head())"
   ]
  },
  {
   "cell_type": "markdown",
   "metadata": {},
   "source": [
    "## Save Analysis Results"
   ]
  },
  {
   "cell_type": "code",
   "execution_count": null,
   "metadata": {},
   "outputs": [],
   "source": [
    "# Save summary statistics\n",
    "stats.to_csv(\"binding_statistics.csv\")\n",
    "\n",
    "# Save strong binders for each sample\n",
    "for sample_id, df in results_dict.items():\n",
    "    strong_binders = df[df['%Rank_EL'] < 2]\n",
    "    strong_binders.to_csv(f\"{sample_id}_strong_binders.csv\", index=False)\n",
    "\n",
    "print(\"Analysis results saved.\")"
   ]
  }
 ],
 "metadata": {
  "language_info": {
   "name": "python"
  }
 },
 "nbformat": 4,
 "nbformat_minor": 2
}
