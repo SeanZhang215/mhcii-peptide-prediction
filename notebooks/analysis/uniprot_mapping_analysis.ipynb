{
 "cells": [
  {
   "cell_type": "markdown",
   "metadata": {},
   "source": [
    "# UniProt Mapping and Gene Expression Analysis"
   ]
  },
  {
   "cell_type": "markdown",
   "metadata": {},
   "source": [
    "This notebook analyzes the biological context of predicted peptides by mapping to UniProt and integrating gene expression data."
   ]
  },
  {
   "cell_type": "markdown",
   "metadata": {},
   "source": [
    "## Setup and Imports"
   ]
  },
  {
   "cell_type": "code",
   "execution_count": null,
   "metadata": {},
   "outputs": [],
   "source": [
    "import pandas as pd\n",
    "import numpy as np\n",
    "from pathlib import Path\n",
    "import requests\n",
    "import xml.etree.ElementTree as ET\n",
    "from src.analysis import TargetAnalysisPlotter, PlotConfig\n",
    "from src.predictor.utils import FileManager\n",
    "\n",
    "# Configure visualization\n",
    "plot_config = PlotConfig(figsize=(12, 8))\n",
    "target_plotter = TargetAnalysisPlotter(plot_config)"
   ]
  },
  {
   "cell_type": "markdown",
   "metadata": {},
   "source": [
    "## Load Prediction Results"
   ]
  },
  {
   "cell_type": "code",
   "execution_count": null,
   "metadata": {},
   "outputs": [],
   "source": [
    "# Load prediction results\n",
    "def load_prediction_results(results_dir: str) -> pd.DataFrame:\n",
    "    all_results = []\n",
    "    for file in Path(results_dir).glob(\"*_predictions.csv\"):\n",
    "        df = pd.read_csv(file)\n",
    "        df['sample_id'] = file.stem.replace(\"_predictions\", \"\")\n",
    "        all_results.append(df)\n",
    "    return pd.concat(all_results)\n",
    "\n",
    "predictions = load_prediction_results(\"/path/to/results\")"
   ]
  },
  {
   "cell_type": "markdown",
   "metadata": {},
   "source": [
    "## UniProt Mapping"
   ]
  },
  {
   "cell_type": "code",
   "execution_count": null,
   "metadata": {},
   "outputs": [],
   "source": [
    "def get_uniprot_info(accession: str) -> dict:\n",
    "    \"\"\"Fetch protein information from UniProt.\"\"\"\n",
    "    base_url = \"https://rest.uniprot.org/uniprotkb/\"\n",
    "    response = requests.get(f\"{base_url}{accession}.xml\")\n",
    "    if response.status_code != 200:\n",
    "        return None\n",
    "    \n",
    "    root = ET.fromstring(response.content)\n",
    "    \n",
    "    # Extract information\n",
    "    gene_element = root.find(\".//{http://uniprot.org/uniprot}gene/{http://uniprot.org/uniprot}name[@type='primary']\")\n",
    "    gene_name = gene_element.text if gene_element is not None else None\n",
    "    \n",
    "    return {\n",
    "        'accession': accession,\n",
    "        'gene_name': gene_name\n",
    "    }\n",
    "\n",
    "# Get unique protein accessions\n",
    "unique_proteins = predictions['Protein.Accession'].unique()\n",
    "\n",
    "# Map to UniProt\n",
    "protein_info = {}\n",
    "for accession in unique_proteins:\n",
    "    info = get_uniprot_info(accession)\n",
    "    if info:\n",
    "        protein_info[accession] = info\n",
    "\n",
    "# Add gene names to predictions\n",
    "predictions['gene_name'] = predictions['Protein.Accession'].map(\n",
    "    lambda x: protein_info.get(x, {}).get('gene_name')\n",
    ")"
   ]
  },
  {
   "cell_type": "markdown",
   "metadata": {},
   "source": [
    "## Load Gene Expression Data"
   ]
  },
  {
   "cell_type": "code",
   "execution_count": null,
   "metadata": {},
   "outputs": [],
   "source": [
    "# Load TPM data\n",
    "expression_data = pd.read_csv(\"/path/to/expression_data.csv\")\n",
    "\n",
    "# Load metadata\n",
    "metadata = pd.read_csv(\"/path/to/metadata.csv\")\n",
    "\n",
    "# Merge metadata with expression data\n",
    "expression_with_meta = pd.merge(\n",
    "    expression_data,\n",
    "    metadata,\n",
    "    on='sample_id'\n",
    ")"
   ]
  },
  {
   "cell_type": "markdown",
   "metadata": {},
   "source": [
    "## Tissue-specific Analysis"
   ]
  },
  {
   "cell_type": "code",
   "execution_count": null,
   "metadata": {},
   "outputs": [],
   "source": [
    "# Group samples by tissue type\n",
    "tissue_groups = expression_with_meta.groupby('tissue_type')\n",
    "\n",
    "# Analyze expression patterns\n",
    "tissue_expression = {}\n",
    "for tissue, group in tissue_groups:\n",
    "    tissue_expression[tissue] = {\n",
    "        'median_expression': group.groupby('gene_name')['TPM'].median(),\n",
    "        'sample_count': len(group),\n",
    "        'expressed_genes': (group['TPM'] > 1).sum()\n",
    "    }\n",
    "\n",
    "# Plot tissue-specific expression\n",
    "plt.figure(figsize=(12, 6))\n",
    "tissue_medians = pd.DataFrame({\n",
    "    tissue: data['median_expression']\n",
    "    for tissue, data in tissue_expression.items()\n",
    "})\n",
    "sns.boxplot(data=tissue_medians)\n",
    "plt.xticks(rotation=45)\n",
    "plt.title('Gene Expression Distribution by Tissue')"
   ]
  },
  {
   "cell_type": "markdown",
   "metadata": {},
   "source": [
    "## Strong Binder Analysis"
   ]
  },
  {
   "cell_type": "code",
   "execution_count": null,
   "metadata": {},
   "outputs": [],
   "source": [
    "# Get strong binders\n",
    "strong_binders = predictions[predictions['%Rank_EL'] < 2]\n",
    "\n",
    "# Analyze source proteins/genes\n",
    "binder_stats = pd.DataFrame({\n",
    "    'total_binders': strong_binders.groupby('gene_name')['Peptide'].count(),\n",
    "    'unique_peptides': strong_binders.groupby('gene_name')['Peptide'].nunique(),\n",
    "    'median_rank': strong_binders.groupby('gene_name')['%Rank_EL'].median()\n",
    "}).sort_values('total_binders', ascending=False)\n",
    "\n",
    "display(binder_stats.head(20))"
   ]
  },
  {
   "cell_type": "markdown",
   "metadata": {},
   "source": [
    "## Cancer/Normal Comparison"
   ]
  },
  {
   "cell_type": "code",
   "execution_count": null,
   "metadata": {},
   "outputs": [],
   "source": [
    "# Separate cancer and normal samples\n",
    "cancer_samples = metadata[metadata['sample_type'] == 'Tumor']['sample_id']\n",
    "normal_samples = metadata[metadata['sample_type'] == 'Normal']['sample_id']\n",
    "\n",
    "# Get predictions for each group\n",
    "cancer_predictions = predictions[predictions['sample_id'].isin(cancer_samples)]\n",
    "normal_predictions = predictions[predictions['sample_id'].isin(normal_samples)]\n",
    "\n",
    "# Analyze differential presentation\n",
    "def analyze_differential_presentation(cancer_df, normal_df):\n",
    "    cancer_counts = cancer_df.groupby('gene_name')['Peptide'].nunique()\n",
    "    normal_counts = normal_df.groupby('gene_name')['Peptide'].nunique()\n",
    "    \n",
    "    diff_df = pd.DataFrame({\n",
    "        'cancer_peptides': cancer_counts,\n",
    "        'normal_peptides': normal_counts\n",
    "    }).fillna(0)\n",
    "    \n",
    "    diff_df['fold_change'] = np.log2((diff_df['cancer_peptides'] + 1) / \n",
    "                                   (diff_df['normal_peptides'] + 1))\n",
    "    \n",
    "    diff_df['total_peptides'] = diff_df['cancer_peptides'] + diff_df['normal_peptides']\n",
    "    \n",
    "    return diff_df.sort_values('fold_change', ascending=False)\n",
    "\n",
    "differential_presentation = analyze_differential_presentation(\n",
    "    cancer_predictions,\n",
    "    normal_predictions\n",
    ")\n",
    "\n",
    "# Plot differential presentation\n",
    "plt.figure(figsize=(12, 8))\n",
    "plt.scatter(\n",
    "    differential_presentation['normal_peptides'],\n",
    "    differential_presentation['cancer_peptides'],\n",
    "    alpha=0.5\n",
    ")\n",
    "plt.yscale('log'); plt.xscale('log')\n",
    "plt.plot([0.1, 1000], [0.1, 1000], 'r--', alpha=0.5)\n",
    "plt.xlabel('Normal Peptides')\n",
    "plt.ylabel('Cancer Peptides')\n",
    "plt.title('Cancer vs Normal Peptide Presentation')"
   ]
  },
  {
   "cell_type": "markdown",
   "metadata": {},
   "source": [
    "## Gene Set Analysis"
   ]
  },
  {
   "cell_type": "code",
   "execution_count": null,
   "metadata": {},
   "outputs": [],
   "source": [
    "# Load gene sets (e.g., cancer testis antigens, tumor suppressors)\n",
    "gene_sets = {\n",
    "    'CT_antigens': ['MAGEA1', 'MAGEA3', 'NY-ESO-1', 'PRAME'],\n",
    "    'Tumor_suppressors': ['TP53', 'PTEN', 'RB1', 'BRCA1'],\n",
    "    'Oncogenes': ['MYC', 'KRAS', 'BRAF', 'PIK3CA']\n",
    "}\n",
    "\n",
    "# Analyze representation in predictions\n",
    "def analyze_gene_sets(predictions_df, gene_sets):\n",
    "    results = {}\n",
    "    for set_name, genes in gene_sets.items():\n",
    "        set_predictions = predictions_df[\n",
    "            predictions_df['gene_name'].isin(genes)\n",
    "        ]\n",
    "        \n",
    "        results[set_name] = {\n",
    "            'total_peptides': len(set_predictions),\n",
    "            'unique_peptides': set_predictions['Peptide'].nunique(),\n",
    "            'genes_found': set_predictions['gene_name'].nunique(),\n",
    "            'median_rank': set_predictions['%Rank_EL'].median(),\n",
    "            'strong_binders': (set_predictions['%Rank_EL'] < 2).sum()\n",
    "        }\n",
    "    \n",
    "    return pd.DataFrame(results).T\n",
    "\n",
    "gene_set_analysis = analyze_gene_sets(predictions, gene_sets)\n",
    "display(gene_set_analysis)"
   ]
  },
  {
   "cell_type": "markdown",
   "metadata": {},
   "source": [
    "## Expression Correlation Analysis"
   ]
  },
  {
   "cell_type": "code",
   "execution_count": null,
   "metadata": {},
   "outputs": [],
   "source": [
    "# Correlate peptide presentation with expression\n",
    "def analyze_expression_correlation(predictions_df, expression_df):\n",
    "    merged_data = []\n",
    "    \n",
    "    for gene in predictions_df['gene_name'].unique():\n",
    "        peptide_count = len(predictions_df[\n",
    "            predictions_df['gene_name'] == gene\n",
    "        ])\n",
    "        \n",
    "        expression = expression_df[\n",
    "            expression_df['gene_name'] == gene\n",
    "        ]['TPM'].median()\n",
    "        \n",
    "        merged_data.append({\n",
    "            'gene': gene,\n",
    "            'peptide_count': peptide_count,\n",
    "            'expression': expression\n",
    "        })\n",
    "    \n",
    "    return pd.DataFrame(merged_data)\n",
    "\n",
    "correlation_data = analyze_expression_correlation(\n",
    "    predictions,\n",
    "    expression_with_meta\n",
    ")\n",
    "\n",
    "# Plot correlation\n",
    "plt.figure(figsize=(10, 6))\n",
    "plt.scatter(\n",
    "    np.log2(correlation_data['expression'] + 1),\n",
    "    np.log2(correlation_data['peptide_count'] + 1),\n",
    "    alpha=0.5\n",
    ")\n",
    "plt.xlabel('log2(TPM + 1)')\n",
    "plt.ylabel('log2(Peptide Count + 1)')\n",
    "plt.title('Expression vs Peptide Presentation')\n",
    "\n",
    "# Calculate correlation coefficient\n",
    "corr = np.corrcoef(\n",
    "    np.log2(correlation_data['expression'] + 1),\n",
    "    np.log2(correlation_data['peptide_count'] + 1)\n",
    ")[0,1]\n",
    "plt.text(0.05, 0.95, f'Correlation: {corr:.2f}', \n",
    "         transform=plt.gca().transAxes)"
   ]
  },
  {
   "cell_type": "markdown",
   "metadata": {},
   "source": [
    "## Save Analysis Results"
   ]
  },
  {
   "cell_type": "code",
   "execution_count": null,
   "metadata": {},
   "outputs": [],
   "source": [
    "# Create results directory\n",
    "results_dir = Path(\"analysis_results\")\n",
    "results_dir.mkdir(exist_ok=True)\n",
    "\n",
    "# Save key results\n",
    "differential_presentation.to_csv(\n",
    "    results_dir / \"differential_presentation.csv\"\n",
    ")\n",
    "gene_set_analysis.to_csv(\n",
    "    results_dir / \"gene_set_analysis.csv\"\n",
    ")\n",
    "correlation_data.to_csv(\n",
    "    results_dir / \"expression_correlation.csv\"\n",
    ")\n",
    "\n",
    "print(\"Analysis results saved to:\", results_dir)"
   ]
  }
 ],
 "metadata": {
  "kernelspec": {
   "display_name": "bioinfo_env_v2",
   "language": "python",
   "name": "python3"
  },
  "language_info": {
   "codemirror_mode": {
    "name": "ipython",
    "version": 3
   },
   "file_extension": ".py",
   "mimetype": "text/x-python",
   "name": "python",
   "nbconvert_exporter": "python",
   "pygments_lexer": "ipython3",
   "version": "3.9.21"
  }
 },
 "nbformat": 4,
 "nbformat_minor": 2
}
