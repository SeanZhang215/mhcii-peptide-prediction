{
 "cells": [
  {
   "cell_type": "markdown",
   "metadata": {},
   "source": [
    "# NetMHCII Peptide Binding Prediction Demo"
   ]
  },
  {
   "cell_type": "markdown",
   "metadata": {
    "vscode": {
     "languageId": "plaintext"
    }
   },
   "source": [
    "This notebook demonstrates the core functionality of the NetMHCII prediction pipeline for peptide-MHC Class II binding predictions."
   ]
  },
  {
   "cell_type": "markdown",
   "metadata": {},
   "source": [
    "## Setup and Imports"
   ]
  },
  {
   "cell_type": "code",
   "execution_count": null,
   "metadata": {},
   "outputs": [],
   "source": [
    "import os\n",
    "import pandas as pd\n",
    "from pathlib import Path\n",
    "\n",
    "from src.predictor import (\n",
    "    NetMHCIIPredictor,\n",
    "    PeptideProcessor,\n",
    "    AlleleMapper,\n",
    "    SampleDataProcessor\n",
    ")\n",
    "from src.predictor.utils import FileManager"
   ]
  },
  {
   "cell_type": "markdown",
   "metadata": {},
   "source": [
    "## Configuration"
   ]
  },
  {
   "cell_type": "code",
   "execution_count": null,
   "metadata": {},
   "outputs": [],
   "source": [
    "# Set up paths\n",
    "BASE_PATH = \"/path/to/base/directory\"\n",
    "MODEL_PATH = \"/path/to/netMHCIIpan-4.3\"\n",
    "RESULTS_PATH = \"/path/to/results\"\n",
    "\n",
    "# Initialize predictor\n",
    "predictor = NetMHCIIPredictor(\n",
    "    base_path=RESULTS_PATH,\n",
    "    model_path=MODEL_PATH\n",
    ")"
   ]
  },
  {
   "cell_type": "markdown",
   "metadata": {},
   "source": [
    "## Quick Start Example"
   ]
  },
  {
   "cell_type": "code",
   "execution_count": null,
   "metadata": {},
   "outputs": [],
   "source": [
    "# Test single prediction\n",
    "test_peptides = ['FVNQHLCGSHLVEAL', 'PKYVKQNTLKLAT']\n",
    "test_alleles = ['DRB1_0101', 'DRB1_0301']\n",
    "\n",
    "results = predictor.run_prediction(test_peptides, test_alleles)\n",
    "print(\"\\nSingle prediction results:\")\n",
    "print(results)"
   ]
  },
  {
   "cell_type": "markdown",
   "metadata": {},
   "source": [
    "## Process MS Data"
   ]
  },
  {
   "cell_type": "code",
   "execution_count": null,
   "metadata": {},
   "outputs": [],
   "source": [
    "# Load sample MS data\n",
    "ms_data = pd.read_csv(\"path/to/ms_data.csv\")\n",
    "\n",
    "# Initialize processor\n",
    "processor = SampleDataProcessor(min_peptide_length=13)\n",
    "\n",
    "# Process samples\n",
    "processed_samples = processor.process_ms_data(ms_data)\n",
    "\n",
    "print(f\"\\nProcessed {len(processed_samples)} samples\")"
   ]
  },
  {
   "cell_type": "markdown",
   "metadata": {},
   "source": [
    "## Map HLA Alleles"
   ]
  },
  {
   "cell_type": "code",
   "execution_count": null,
   "metadata": {},
   "outputs": [],
   "source": [
    "# Initialize allele mapper\n",
    "allele_mapper = AlleleMapper(os.path.join(MODEL_PATH, \"data/allele.list\"))\n",
    "\n",
    "# Load HLA typing data\n",
    "hla_typing = pd.read_csv(\"path/to/hla_typing.csv\")\n",
    "\n",
    "# Map alleles for each sample\n",
    "for idx, row in hla_typing.iterrows():\n",
    "    sample_id = row['SampleID']\n",
    "    if sample_id in processed_samples:\n",
    "        valid_alleles, _ = allele_mapper.process_hla_typing(row)\n",
    "        processed_samples[sample_id].alleles = valid_alleles"
   ]
  },
  {
   "cell_type": "markdown",
   "metadata": {},
   "source": [
    "## Batch Prediction"
   ]
  },
  {
   "cell_type": "code",
   "execution_count": null,
   "metadata": {},
   "outputs": [],
   "source": [
    "# Run predictions for all samples\n",
    "results = predictor.process_samples(processed_samples)\n",
    "\n",
    "# Print basic statistics\n",
    "for sample_id, result_df in results.items():\n",
    "    if result_df is not None:\n",
    "        print(f\"\\nSample {sample_id}:\")\n",
    "        print(f\"  Total predictions: {len(result_df)}\")\n",
    "        print(f\"  Strong binders (<2%): {(result_df['%Rank_EL'] < 2).sum()}\")"
   ]
  },
  {
   "cell_type": "markdown",
   "metadata": {},
   "source": [
    "## Save Results\n"
   ]
  },
  {
   "cell_type": "code",
   "execution_count": null,
   "metadata": {},
   "outputs": [],
   "source": [
    "# Save results for further analysis\n",
    "for sample_id, result_df in results.items():\n",
    "    if result_df is not None:\n",
    "        predictor.save_sample_results(result_df, sample_id)\n",
    "\n",
    "print(\"\\nResults saved to:\", RESULTS_PATH)"
   ]
  }
 ],
 "metadata": {
  "kernelspec": {
   "display_name": "bioinfo_env_v2",
   "language": "python",
   "name": "python3"
  },
  "language_info": {
   "codemirror_mode": {
    "name": "ipython",
    "version": 3
   },
   "file_extension": ".py",
   "mimetype": "text/x-python",
   "name": "python",
   "nbconvert_exporter": "python",
   "pygments_lexer": "ipython3",
   "version": "3.9.21"
  }
 },
 "nbformat": 4,
 "nbformat_minor": 2
}
